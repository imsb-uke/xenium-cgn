{
 "cells": [
  {
   "cell_type": "code",
   "execution_count": 1,
   "id": "efd8ef5a-ccf1-472c-8bd2-415d1e6c8cd9",
   "metadata": {
    "scrolled": true,
    "tags": []
   },
   "outputs": [
    {
     "name": "stderr",
     "output_type": "stream",
     "text": [
      "Loading required package: dplyr\n",
      "\n",
      "\n",
      "Attaching package: ‘dplyr’\n",
      "\n",
      "\n",
      "The following objects are masked from ‘package:stats’:\n",
      "\n",
      "    filter, lag\n",
      "\n",
      "\n",
      "The following objects are masked from ‘package:base’:\n",
      "\n",
      "    intersect, setdiff, setequal, union\n",
      "\n",
      "\n",
      "Loading required package: igraph\n",
      "\n",
      "\n",
      "Attaching package: ‘igraph’\n",
      "\n",
      "\n",
      "The following objects are masked from ‘package:dplyr’:\n",
      "\n",
      "    as_data_frame, groups, union\n",
      "\n",
      "\n",
      "The following objects are masked from ‘package:stats’:\n",
      "\n",
      "    decompose, spectrum\n",
      "\n",
      "\n",
      "The following object is masked from ‘package:base’:\n",
      "\n",
      "    union\n",
      "\n",
      "\n",
      "Loading required package: ggplot2\n",
      "\n"
     ]
    }
   ],
   "source": [
    "library(anndata)\n",
    "library(CellChat)\n",
    "library(patchwork)\n",
    "library(ggplot2)\n",
    "options(stringsAsFactors = FALSE)\n"
   ]
  },
  {
   "cell_type": "code",
   "execution_count": 2,
   "id": "1e407a80-3662-41d5-a8dc-c6963468c62b",
   "metadata": {
    "scrolled": true,
    "tags": []
   },
   "outputs": [
    {
     "data": {
      "text/plain": [
       "R version 4.3.2 (2023-10-31)\n",
       "Platform: x86_64-pc-linux-gnu (64-bit)\n",
       "Running under: Ubuntu 20.04.3 LTS\n",
       "\n",
       "Matrix products: default\n",
       "BLAS/LAPACK: /usr/lib/x86_64-linux-gnu/openblas-openmp/libopenblasp-r0.3.8.so;  LAPACK version 3.9.0\n",
       "\n",
       "locale:\n",
       " [1] LC_CTYPE=en_US.UTF-8       LC_NUMERIC=C              \n",
       " [3] LC_TIME=en_US.UTF-8        LC_COLLATE=en_US.UTF-8    \n",
       " [5] LC_MONETARY=en_US.UTF-8    LC_MESSAGES=C             \n",
       " [7] LC_PAPER=en_US.UTF-8       LC_NAME=C                 \n",
       " [9] LC_ADDRESS=C               LC_TELEPHONE=C            \n",
       "[11] LC_MEASUREMENT=en_US.UTF-8 LC_IDENTIFICATION=C       \n",
       "\n",
       "time zone: UTC\n",
       "tzcode source: system (glibc)\n",
       "\n",
       "attached base packages:\n",
       "[1] stats     graphics  grDevices utils     datasets  methods   base     \n",
       "\n",
       "other attached packages:\n",
       "[1] patchwork_1.1.3     CellChat_2.1.2      Biobase_2.62.0     \n",
       "[4] BiocGenerics_0.48.1 ggplot2_3.4.4       igraph_1.5.1       \n",
       "[7] dplyr_1.1.4         anndata_0.7.5.6    \n",
       "\n",
       "loaded via a namespace (and not attached):\n",
       "  [1] pbapply_1.7-2         rlang_1.1.2           magrittr_2.0.3       \n",
       "  [4] clue_0.3-65           GetoptLong_1.0.5      gridBase_0.4-7       \n",
       "  [7] matrixStats_1.1.0     compiler_4.3.2        getPass_0.2-2        \n",
       " [10] systemfonts_1.0.5     png_0.1-8             vctrs_0.6.4          \n",
       " [13] reshape2_1.4.4        ggalluvial_0.12.5     stringr_1.5.1        \n",
       " [16] pkgconfig_2.0.3       shape_1.4.6           crayon_1.5.2         \n",
       " [19] fastmap_1.1.1         backports_1.4.1       ellipsis_0.3.2       \n",
       " [22] utf8_1.2.4            promises_1.2.1        network_1.18.1       \n",
       " [25] purrr_1.0.2           cachem_1.0.8          jsonlite_1.8.7       \n",
       " [28] later_1.3.1           uuid_1.1-1            BiocParallel_1.36.0  \n",
       " [31] irlba_2.3.5.1         broom_1.0.5           parallel_4.3.2       \n",
       " [34] cluster_2.1.4         R6_2.5.1              bslib_0.5.1          \n",
       " [37] stringi_1.8.1         RColorBrewer_1.1-3    reticulate_1.34.0    \n",
       " [40] car_3.1-2             parallelly_1.36.0     jquerylib_0.1.4      \n",
       " [43] Rcpp_1.0.11           IRkernel_1.3.2        assertthat_0.2.1     \n",
       " [46] iterators_1.0.14      future.apply_1.11.0   base64enc_0.1-3      \n",
       " [49] IRanges_2.36.0        FNN_1.1.3.2           httpuv_1.6.12        \n",
       " [52] Matrix_1.6-3          tidyselect_1.2.0      abind_1.4-5          \n",
       " [55] doParallel_1.0.17     codetools_0.2-19      listenv_0.9.0        \n",
       " [58] lattice_0.21-9        tibble_3.2.1          plyr_1.8.9           \n",
       " [61] shiny_1.8.0           withr_2.5.2           coda_0.19-4          \n",
       " [64] evaluate_0.23         future_1.33.0         circlize_0.4.15      \n",
       " [67] pillar_1.9.0          BiocManager_1.30.22   ggpubr_0.6.0         \n",
       " [70] carData_3.0-5         rngtools_1.5.2        foreach_1.5.2        \n",
       " [73] stats4_4.3.2          generics_0.1.3        IRdisplay_1.1        \n",
       " [76] S4Vectors_0.40.1      munsell_0.5.0         scales_1.2.1         \n",
       " [79] NMF_0.26              ggnetwork_0.5.12      globals_0.16.2       \n",
       " [82] xtable_1.8-4          glue_1.6.2            tools_4.3.2          \n",
       " [85] BiocNeighbors_1.20.0  RSpectra_0.16-1       ggsignif_0.6.4       \n",
       " [88] registry_0.5-1        pbdZMQ_0.3-10         cowplot_1.1.1        \n",
       " [91] grid_4.3.2            tidyr_1.3.0           colorspace_2.1-0     \n",
       " [94] repr_1.1.6            cli_3.6.1             fansi_1.0.5          \n",
       " [97] svglite_2.1.2         ComplexHeatmap_2.18.0 gtable_0.3.4         \n",
       "[100] rstatix_0.7.2         sass_0.4.7            digest_0.6.33        \n",
       "[103] ggrepel_0.9.4         sna_2.7-1             rjson_0.2.21         \n",
       "[106] htmltools_0.5.7       lifecycle_1.0.4       statnet.common_4.9.0 \n",
       "[109] GlobalOptions_0.1.2   mime_0.12            "
      ]
     },
     "metadata": {},
     "output_type": "display_data"
    }
   ],
   "source": [
    "sessionInfo()"
   ]
  },
  {
   "cell_type": "code",
   "execution_count": 4,
   "id": "29f321b5-41a6-4c36-8f91-2b97a4e796bf",
   "metadata": {},
   "outputs": [
    {
     "name": "stdout",
     "output_type": "stream",
     "text": [
      "Folder already exists: ./output/dataobjects \n"
     ]
    }
   ],
   "source": [
    "create_OutputFolder <- function(folder_path) {\n",
    "  if (!file.exists(folder_path)) {\n",
    "    dir.create(folder_path, recursive = TRUE)\n",
    "    cat(\"Folder created:\", folder_path, \"\\n\")\n",
    "  } else {\n",
    "    cat(\"Folder already exists:\", folder_path, \"\\n\")\n",
    "  }\n",
    "}\n",
    "\n",
    "objects_folder=\"./output/dataobjects\"\n",
    "create_OutputFolder(objects_folder)\n"
   ]
  },
  {
   "cell_type": "markdown",
   "id": "3148120f-777e-4c42-911c-b8dcfdafe082",
   "metadata": {},
   "source": [
    "## Cntrl"
   ]
  },
  {
   "cell_type": "code",
   "execution_count": null,
   "id": "ab589de1-0aca-4b1f-9197-14d33241fa5c",
   "metadata": {},
   "outputs": [],
   "source": [
    "cellchat=readRDS(file=paste0(objects_folder,\"/cellchat_Cntrl_adjusted_XY_withDE.rds\"))\n",
    "\n",
    "options(future.globals.maxSize = 100000000000)\n",
    "\n",
    "# Ref : https://htmlpreview.github.io/?https://github.com/jinworks/CellChat/blob/master/tutorial/CellChat_analysis_of_spatial_transcriptomics_data.html\n",
    "\n",
    "cellchat <- computeCommunProb(cellchat, \n",
    "                              type = \"truncatedMean\", \n",
    "                              trim = 0.1, \n",
    "                              distance.use = TRUE, \n",
    "                              interaction.range = 250, \n",
    "                              scale.distance = 1, \n",
    "                              contact.dependent = TRUE, \n",
    "                              contact.range = 10) \n",
    "\n",
    "cellchat <- filterCommunication(cellchat, min.cells = 10)\n",
    "\n",
    "cellchat <- computeCommunProbPathway(cellchat)\n",
    "\n",
    "cellchat <- aggregateNet(cellchat)\n",
    "\n",
    "saveRDS(cellchat, file=paste0(objects_folder,\"/cellchat_Cntrl_adjusted_XY_PROCESSED_withDE.rds\"))\n",
    "\n",
    "groupSize <- as.numeric(table(cellchat@idents))\n"
   ]
  },
  {
   "cell_type": "markdown",
   "id": "2477348c-f448-472b-b672-699faf562f4f",
   "metadata": {},
   "source": [
    "## cGN"
   ]
  },
  {
   "cell_type": "code",
   "execution_count": null,
   "id": "71dd325b-4f64-4dbd-a05d-3f8401c21c7b",
   "metadata": {},
   "outputs": [],
   "source": [
    "cellchat=readRDS(file=paste0(objects_folder,\"/cellchat_cGN_adjusted_XY_withDE.rds\"))"
   ]
  },
  {
   "cell_type": "code",
   "execution_count": null,
   "id": "ac990ec9-5ad9-442d-883f-b88475ee2844",
   "metadata": {},
   "outputs": [],
   "source": [
    "options(future.globals.maxSize = 100000000000)"
   ]
  },
  {
   "cell_type": "code",
   "execution_count": null,
   "id": "17ee8f9c-9831-4509-bcd9-f3210db84803",
   "metadata": {},
   "outputs": [],
   "source": [
    "cellchat <- computeCommunProb(cellchat, \n",
    "                              type = \"truncatedMean\", \n",
    "                              trim = 0.1, \n",
    "                              distance.use = TRUE, \n",
    "                              interaction.range = 250, \n",
    "                              scale.distance = 1, \n",
    "                              contact.dependent = TRUE, \n",
    "                              contact.range = 10)"
   ]
  },
  {
   "cell_type": "code",
   "execution_count": null,
   "id": "61890947-640b-467c-8ee0-3dd2092626a0",
   "metadata": {},
   "outputs": [],
   "source": [
    "cellchat <- filterCommunication(cellchat, min.cells = 10)"
   ]
  },
  {
   "cell_type": "code",
   "execution_count": null,
   "id": "6f650917-64e5-48ce-94d4-3e386aa0d73c",
   "metadata": {},
   "outputs": [],
   "source": [
    "cellchat <- computeCommunProbPathway(cellchat)"
   ]
  },
  {
   "cell_type": "code",
   "execution_count": null,
   "id": "80058835-5907-4dd2-9508-8dd53094cfde",
   "metadata": {},
   "outputs": [],
   "source": [
    "cellchat <- aggregateNet(cellchat)"
   ]
  },
  {
   "cell_type": "code",
   "execution_count": null,
   "id": "443e55a5-4931-41df-bae5-993de6e0147e",
   "metadata": {},
   "outputs": [],
   "source": [
    "saveRDS(cellchat, file=paste0(objects_folder,\"/cellchat_cGN_adjusted_XY_PROCESSED_withDE.rds\"))"
   ]
  },
  {
   "cell_type": "code",
   "execution_count": null,
   "id": "a7f7519f-99a1-474f-b266-b7106df7bb13",
   "metadata": {},
   "outputs": [],
   "source": [
    "groupSize <- as.numeric(table(cellchat@idents))"
   ]
  },
  {
   "cell_type": "markdown",
   "id": "5fbfa23d-bfdc-476f-ac02-e6b39b363d03",
   "metadata": {},
   "source": [
    "## Anca"
   ]
  },
  {
   "cell_type": "code",
   "execution_count": null,
   "id": "ec37ef89-9559-44e0-b026-fe6c7aa770df",
   "metadata": {},
   "outputs": [],
   "source": [
    "cellchat=readRDS(file=paste0(objects_folder,\"/cellchat_Anca_adjusted_XY_withDE.rds\"))"
   ]
  },
  {
   "cell_type": "code",
   "execution_count": null,
   "id": "d5d84ac6-dd5c-4b36-964c-343c58aab22a",
   "metadata": {},
   "outputs": [],
   "source": [
    "options(future.globals.maxSize = 100000000000)"
   ]
  },
  {
   "cell_type": "code",
   "execution_count": null,
   "id": "797b1351-c28d-44d1-adcd-3f5e1739a7b1",
   "metadata": {},
   "outputs": [],
   "source": [
    "## Time-taking step\n",
    "\n",
    "cellchat <- computeCommunProb(cellchat, \n",
    "                              type = \"truncatedMean\", \n",
    "                              trim = 0.1, \n",
    "                              distance.use = TRUE, \n",
    "                              interaction.range = 250, \n",
    "                              scale.distance = 1, \n",
    "                              contact.dependent = TRUE, \n",
    "                              contact.range = 10)"
   ]
  },
  {
   "cell_type": "code",
   "execution_count": null,
   "id": "517cb32d-620d-4c08-b7d5-8a22b5b10efb",
   "metadata": {
    "tags": []
   },
   "outputs": [],
   "source": [
    "cellchat <- filterCommunication(cellchat, min.cells = 10)"
   ]
  },
  {
   "cell_type": "code",
   "execution_count": null,
   "id": "a8c9b2a1-61a6-4cd9-825a-27342841eb8a",
   "metadata": {
    "tags": []
   },
   "outputs": [],
   "source": [
    "cellchat <- computeCommunProbPathway(cellchat)"
   ]
  },
  {
   "cell_type": "code",
   "execution_count": null,
   "id": "d684bddf-aa07-4a77-8a83-da0b168b2b56",
   "metadata": {},
   "outputs": [],
   "source": [
    "cellchat <- aggregateNet(cellchat)"
   ]
  },
  {
   "cell_type": "code",
   "execution_count": null,
   "id": "80b81183-18db-42cc-9b2b-9baa07607ee6",
   "metadata": {
    "tags": []
   },
   "outputs": [],
   "source": [
    "saveRDS(cellchat, file=paste0(objects_folder,\"/cellchat_Anca_adjusted_XY_PROCESSED_withDE.rds\"))"
   ]
  },
  {
   "cell_type": "code",
   "execution_count": null,
   "id": "8202b083-b5d7-44c9-9ca5-0550681e6643",
   "metadata": {},
   "outputs": [],
   "source": [
    "groupSize <- as.numeric(table(cellchat@idents))\n"
   ]
  },
  {
   "cell_type": "markdown",
   "id": "05627d4a-e9ce-4468-afe1-ad8367b06cb0",
   "metadata": {},
   "source": [
    "## Gbm"
   ]
  },
  {
   "cell_type": "code",
   "execution_count": null,
   "id": "f1cc04b9-abaa-4900-9269-a6220ae9b2a1",
   "metadata": {},
   "outputs": [],
   "source": [
    "cellchat=readRDS(file=paste0(objects_folder,\"/cellchat_Gbm_adjusted_XY_withDE.rds\"))"
   ]
  },
  {
   "cell_type": "code",
   "execution_count": null,
   "id": "b67ee2fa-f3d2-4b2b-a708-b4c5a8540afc",
   "metadata": {},
   "outputs": [],
   "source": [
    "options(future.globals.maxSize = 100000000000)"
   ]
  },
  {
   "cell_type": "code",
   "execution_count": null,
   "id": "b482b89c-83a9-4857-91b3-c90ceffa6bd2",
   "metadata": {},
   "outputs": [],
   "source": [
    "cellchat <- computeCommunProb(cellchat, \n",
    "                              type = \"truncatedMean\", \n",
    "                              trim = 0.1, \n",
    "                              distance.use = TRUE, \n",
    "                              interaction.range = 250, \n",
    "                              scale.distance = 1, \n",
    "                              contact.dependent = TRUE, \n",
    "                              contact.range = 10)"
   ]
  },
  {
   "cell_type": "code",
   "execution_count": null,
   "id": "be93a4ee-4214-44b4-a4df-1194f7520697",
   "metadata": {
    "tags": []
   },
   "outputs": [],
   "source": [
    "cellchat <- filterCommunication(cellchat, min.cells = 10)"
   ]
  },
  {
   "cell_type": "code",
   "execution_count": null,
   "id": "611842c2-7942-4cae-a9a4-076dec36339f",
   "metadata": {
    "tags": []
   },
   "outputs": [],
   "source": [
    "cellchat <- computeCommunProbPathway(cellchat)"
   ]
  },
  {
   "cell_type": "code",
   "execution_count": null,
   "id": "4415d0de-d708-4fed-b7f5-8653335a8afd",
   "metadata": {},
   "outputs": [],
   "source": [
    "cellchat <- aggregateNet(cellchat)"
   ]
  },
  {
   "cell_type": "code",
   "execution_count": null,
   "id": "2a082780-1998-4c9c-90ac-436d89e08b51",
   "metadata": {
    "tags": []
   },
   "outputs": [],
   "source": [
    "saveRDS(cellchat, file=paste0(objects_folder,\"/cellchat_Gbm_adjusted_XY_PROCESSED_withDE.rds\"))"
   ]
  },
  {
   "cell_type": "code",
   "execution_count": null,
   "id": "c6d1057d-3222-4105-9142-ccabb0edc80a",
   "metadata": {},
   "outputs": [],
   "source": [
    "groupSize <- as.numeric(table(cellchat@idents))"
   ]
  },
  {
   "cell_type": "markdown",
   "id": "96ed12c2-266c-4999-95b9-90727512c2ea",
   "metadata": {},
   "source": [
    "## Sle"
   ]
  },
  {
   "cell_type": "code",
   "execution_count": null,
   "id": "113507f4-f766-4018-94c9-8c6576c98941",
   "metadata": {},
   "outputs": [],
   "source": [
    "cellchat=readRDS(file=paste0(objects_folder,\"/cellchat_Sle_adjusted_XY_withDE.rds\"))"
   ]
  },
  {
   "cell_type": "code",
   "execution_count": null,
   "id": "6ed98731-c7c8-4f95-83f0-5d3a1045f202",
   "metadata": {},
   "outputs": [],
   "source": [
    "options(future.globals.maxSize = 100000000000)"
   ]
  },
  {
   "cell_type": "code",
   "execution_count": null,
   "id": "0a2b95e6-b9ff-4e29-8c5b-f7de8ed73078",
   "metadata": {},
   "outputs": [],
   "source": [
    "cellchat <- computeCommunProb(cellchat, \n",
    "                              type = \"truncatedMean\", \n",
    "                              trim = 0.1, \n",
    "                              distance.use = TRUE, \n",
    "                              interaction.range = 250, \n",
    "                              scale.distance = 1, \n",
    "                              contact.dependent = TRUE, \n",
    "                              contact.range = 10)"
   ]
  },
  {
   "cell_type": "code",
   "execution_count": null,
   "id": "237a8a93-439f-4e1a-ab4e-e21e9384c1a0",
   "metadata": {
    "tags": []
   },
   "outputs": [],
   "source": [
    "cellchat <- filterCommunication(cellchat, min.cells = 10)"
   ]
  },
  {
   "cell_type": "code",
   "execution_count": null,
   "id": "ae0c6844-46d9-4916-a3b2-a9304ed4aa24",
   "metadata": {
    "tags": []
   },
   "outputs": [],
   "source": [
    "cellchat <- computeCommunProbPathway(cellchat)"
   ]
  },
  {
   "cell_type": "code",
   "execution_count": null,
   "id": "0f91c59c-27d2-4a6e-b92f-72259b1431c8",
   "metadata": {},
   "outputs": [],
   "source": [
    "cellchat <- aggregateNet(cellchat)"
   ]
  },
  {
   "cell_type": "code",
   "execution_count": null,
   "id": "7f4ac78b-b72a-498f-b0c2-b07a59d59ddb",
   "metadata": {
    "tags": []
   },
   "outputs": [],
   "source": [
    "saveRDS(cellchat, file=paste0(objects_folder,\"/cellchat_Sle_adjusted_XY_PROCESSED_withDE.rds\"))"
   ]
  },
  {
   "cell_type": "code",
   "execution_count": null,
   "id": "53974b29-5a4c-4ce1-b0da-027fe46978d6",
   "metadata": {},
   "outputs": [],
   "source": [
    "groupSize <- as.numeric(table(cellchat@idents))"
   ]
  },
  {
   "cell_type": "code",
   "execution_count": null,
   "id": "b0b401e9-9371-4e51-bbdf-149a1650394d",
   "metadata": {},
   "outputs": [],
   "source": []
  }
 ],
 "metadata": {
  "kernelspec": {
   "display_name": "R",
   "language": "R",
   "name": "ir"
  },
  "language_info": {
   "codemirror_mode": "r",
   "file_extension": ".r",
   "mimetype": "text/x-r-source",
   "name": "R",
   "pygments_lexer": "r",
   "version": "4.3.2"
  }
 },
 "nbformat": 4,
 "nbformat_minor": 5
}
