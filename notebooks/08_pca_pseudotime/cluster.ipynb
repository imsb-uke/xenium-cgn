{
 "cells": [
  {
   "cell_type": "code",
   "execution_count": null,
   "id": "44a716c8-e19a-4ec3-b114-5def3a62519e",
   "metadata": {},
   "outputs": [],
   "source": [
    "import os\n",
    "import scanpy as sc\n",
    "sc.set_figure_params(dpi=100, dpi_save=1000, vector_friendly=True)\n",
    "import matplotlib"
   ]
  },
  {
   "cell_type": "code",
   "execution_count": null,
   "id": "664596e5-2a3c-4c85-a3a6-ff706f3e9152",
   "metadata": {},
   "outputs": [],
   "source": [
    "import numpy as np\n",
    "import pandas as pd\n",
    "import seaborn as sns\n",
    "# sns.set(style=\"ticks\")"
   ]
  },
  {
   "cell_type": "code",
   "execution_count": null,
   "id": "31fb2caf-0ecb-4fe7-8fb9-6651fedb647a",
   "metadata": {},
   "outputs": [],
   "source": [
    "adata = sc.read(\"../xenium_outs/adata_polygon_reduced_pseudotime_X26updated_with_quadrants.h5ad\")"
   ]
  },
  {
   "cell_type": "code",
   "execution_count": null,
   "id": "158131a0-8e89-43eb-b56f-9fcab0c96d00",
   "metadata": {},
   "outputs": [],
   "source": [
    "X = adata.obsm[\"X_pca\"]"
   ]
  },
  {
   "cell_type": "code",
   "execution_count": null,
   "id": "555a42f9-fba1-498a-8b7d-b922f242d132",
   "metadata": {},
   "outputs": [],
   "source": [
    "sns.set(style=\"ticks\")"
   ]
  },
  {
   "cell_type": "code",
   "execution_count": null,
   "id": "028a00c4-4456-4034-91b3-009cd095aa3f",
   "metadata": {},
   "outputs": [],
   "source": [
    "import numpy as np\n",
    "import matplotlib.pyplot as plt\n",
    "from sklearn.cluster import KMeans\n",
    "from sklearn.metrics import silhouette_score\n",
    "from yellowbrick.cluster import KElbowVisualizer\n",
    "\n",
    "inertia = []\n",
    "silhouette_scores = []\n",
    "k_range = range(2, 15)\n",
    "\n",
    "for k in k_range:\n",
    "    kmeans = KMeans(n_clusters=k, random_state=42, n_init=10)\n",
    "    kmeans.fit(X)\n",
    "    inertia.append(kmeans.inertia_)\n",
    "    \n",
    "    if k > 1: \n",
    "        labels = kmeans.labels_\n",
    "        silhouette_scores.append(silhouette_score(X, labels))\n",
    "\n",
    "# Plot Elbow Method\n",
    "plt.figure(figsize=(12, 5))\n",
    "plt.subplot(1, 2, 1)\n",
    "plt.plot(k_range, inertia, 'bo-')\n",
    "plt.xlabel('Number of clusters')\n",
    "plt.ylabel('Inertia (WCSS)')\n",
    "plt.title('Elbow Method')\n",
    "plt.grid(False)\n",
    "plt.savefig(\"elbow.pdf\", bbox_inches=\"tight\")\n",
    "\n",
    "\n",
    "# Plot Silhouette Scores\n",
    "plt.subplot(1, 2, 2)\n",
    "plt.plot(k_range, silhouette_scores, 'ro-')\n",
    "plt.xlabel('Number of clusters')\n",
    "plt.ylabel('Silhouette Score')\n",
    "plt.title('Silhouette Analysis')\n",
    "plt.grid(False)\n",
    "plt.tight_layout()\n",
    "plt.savefig(\"silhouette.pdf\", bbox_inches=\"tight\")\n",
    "plt.show()\n",
    "\n",
    "visualizer = KElbowVisualizer(KMeans(random_state=42), k=(2, 15))\n",
    "visualizer.fit(X)\n",
    "visualizer.finalize()\n",
    "plt.savefig(\"elbow_yellowbrick.pdf\", bbox_inches=\"tight\")\n",
    "\n",
    "optimal_k = 5\n",
    "kmeans_final = KMeans(n_clusters=optimal_k, random_state=42, n_init=10)\n",
    "cluster_labels = kmeans_final.fit_predict(X)\n",
    "\n",
    "for i in range(optimal_k):\n",
    "    print(f\"Cluster {i}: {np.sum(cluster_labels == i)} samples\")\n",
    "\n",
    "from sklearn.decomposition import PCA\n",
    "\n",
    "pca = PCA(n_components=2)\n",
    "X_pca = pca.fit_transform(X)\n",
    "\n",
    "plt.figure(figsize=(10, 8))\n",
    "for i in range(optimal_k):\n",
    "    plt.scatter(X_pca[cluster_labels == i, 0], X_pca[cluster_labels == i, 1], label=f'Cluster {i}')\n",
    "plt.legend()\n",
    "plt.title(f'K-means Clustering with {optimal_k} clusters (PCA visualization)')\n",
    "plt.show()"
   ]
  },
  {
   "cell_type": "markdown",
   "id": "1f7ba0c7-fb7e-45b8-a3e2-ae65ae612082",
   "metadata": {},
   "source": [
    "## redo KMeans on only unique polygons"
   ]
  },
  {
   "cell_type": "code",
   "execution_count": null,
   "id": "f098ecbb-14d4-4465-afa6-d1ae6ff81996",
   "metadata": {},
   "outputs": [],
   "source": [
    "import os\n",
    "import scanpy as sc\n",
    "sc.set_figure_params(dpi=100, dpi_save=1000, vector_friendly=True)\n",
    "import matplotlib\n",
    "from matplotlib import font_manager\n",
    "import matplotlib.pyplot as plt\n",
    "font_dirs = \"/data/projects/robin/fonts\"\n",
    "font_files = font_manager.findSystemFonts(fontpaths=font_dirs)\n",
    "for font_file in font_files:\n",
    "    font_manager.fontManager.addfont(font_file)\n",
    "matplotlib.pyplot.rcParams['font.family'] = \"Arial\""
   ]
  },
  {
   "cell_type": "code",
   "execution_count": null,
   "id": "b5e90f72-310a-4f8d-90f6-ff5ead79ec3f",
   "metadata": {},
   "outputs": [],
   "source": [
    "import numpy as np\n",
    "import pandas as pd\n",
    "import seaborn as sns\n",
    "# sns.set(style=\"ticks\")"
   ]
  },
  {
   "cell_type": "code",
   "execution_count": null,
   "id": "8edd4c9b-f454-42bd-9277-e38fb827270e",
   "metadata": {},
   "outputs": [],
   "source": [
    "adata = sc.read(\"../xenium_outs/adata_polygon_reduced_pseudotime_X26updated_with_quadrants.h5ad\")"
   ]
  },
  {
   "cell_type": "code",
   "execution_count": null,
   "id": "bf5274f3-d230-4c9e-99ff-b9dcdf3ea24f",
   "metadata": {},
   "outputs": [],
   "source": [
    "adata_unique = adata[~adata.obs.index.str.contains(\",\")]"
   ]
  },
  {
   "cell_type": "code",
   "execution_count": null,
   "id": "0b0e4746-ff67-4ede-9e58-ea8091e31adb",
   "metadata": {},
   "outputs": [],
   "source": [
    "adata_unique.obs[\"Sample_ID\"] = [idx.split(\"_\")[-1] for idx in adata_unique.obs.index]"
   ]
  },
  {
   "cell_type": "code",
   "execution_count": null,
   "id": "5e7e8e30-be17-4ec0-9bee-39250fbf6eff",
   "metadata": {},
   "outputs": [],
   "source": [
    "sc.pp.highly_variable_genes(adata_unique, n_top_genes=100)\n",
    "sc.tl.pca(adata_unique, use_highly_variable=True)\n",
    "sc.pp.neighbors(adata_unique, use_rep=\"X_pca\")"
   ]
  },
  {
   "cell_type": "code",
   "execution_count": null,
   "id": "776ca1c8-0ddb-4f17-94bb-bbce3c15d12b",
   "metadata": {},
   "outputs": [],
   "source": [
    "from sklearn.cluster import KMeans\n",
    "clf = KMeans(5, random_state=42, n_init=10)\n",
    "adata_unique.obs[\"KMeans_cluster\"] = clf.fit_predict(adata_unique.obsm[\"X_pca\"])"
   ]
  },
  {
   "cell_type": "code",
   "execution_count": null,
   "id": "0c62ea93-94f2-4ff4-a829-69e7d29b019a",
   "metadata": {},
   "outputs": [],
   "source": [
    "tab = pd.crosstab(adata_unique.obs[\"Sample_ID\"], adata_unique.obs[\"KMeans_cluster\"])\n",
    "tab[tab>1] = 1\n",
    "tab.sum(0)"
   ]
  },
  {
   "cell_type": "code",
   "execution_count": null,
   "id": "41025e76-94b8-44bf-98ab-d3d02a432413",
   "metadata": {},
   "outputs": [],
   "source": [
    "tab.shape"
   ]
  },
  {
   "cell_type": "code",
   "execution_count": null,
   "id": "24cd68bd-71ba-46db-8aa4-2b142915218d",
   "metadata": {},
   "outputs": [],
   "source": [
    "for cluster in sorted(adata_unique.obs[\"KMeans_cluster\"].unique()):\n",
    "    print(cluster)\n",
    "    sub = adata_unique[adata_unique.obs[\"KMeans_cluster\"]==cluster]\n",
    "    display(pd.DataFrame(sub.obs[\"Sample_ID\"].value_counts()))"
   ]
  },
  {
   "cell_type": "code",
   "execution_count": null,
   "id": "0132e1d6-99da-489d-8c21-d8a339b2c453",
   "metadata": {},
   "outputs": [],
   "source": [
    "pd.crosstab(adata_unique.obs[\"Disease\"], adata_unique.obs[\"KMeans_cluster\"])"
   ]
  },
  {
   "cell_type": "code",
   "execution_count": null,
   "id": "1129cf1b-d333-4f5a-9847-94d12564b569",
   "metadata": {},
   "outputs": [],
   "source": [
    "adata_unique.obs[\"KMeans_cluster\"] = adata_unique.obs[\"KMeans_cluster\"].astype(\"category\")"
   ]
  },
  {
   "cell_type": "code",
   "execution_count": null,
   "id": "b53e89da-f426-4ffc-9afd-6e5f9976cbc5",
   "metadata": {},
   "outputs": [],
   "source": [
    "adata_unique.obs[\"KMeans_cluster\"] = adata_unique.obs[\"KMeans_cluster\"].astype(str).astype(\"category\")\n",
    "adata_unique.obs[\"KMeans_cluster\"].replace({\"4\": \"C1\",\n",
    "                                           \"2\": \"C1\",\n",
    "                                           \"1\": \"C2\",\n",
    "                                           \"0\": \"C3\",\n",
    "                                           \"3\": \"C4\"}, inplace=True)\n",
    "cats = [\"C1\", \"C2\", \"C3\", \"C4\"]\n",
    "adata_unique.obs[\"KMeans_cluster\"] = adata_unique.obs[\"KMeans_cluster\"].cat.reorder_categories(cats)"
   ]
  },
  {
   "cell_type": "code",
   "execution_count": null,
   "id": "d13a05ec-5b4b-4b40-8f49-2ecc420fdf33",
   "metadata": {},
   "outputs": [],
   "source": [
    "sc.pl.pca(adata_unique, color=[\"KMeans_cluster\", \"Disease\"], title=[\"Cluster\", \"Condition\"], show=False)\n",
    "plt.savefig(\"pcs_cluster_conditions.pdf\", bbox_inches=\"tight\")"
   ]
  },
  {
   "cell_type": "code",
   "execution_count": null,
   "id": "453d3f82-1977-4c85-8f59-f645a66ed112",
   "metadata": {},
   "outputs": [],
   "source": [
    "adata_unique.write(\"../xenium_outs/adata_polygon_reduced_pseudotime_X26updated_with_quadrants_with_clusters.h5ad\")"
   ]
  },
  {
   "cell_type": "code",
   "execution_count": null,
   "id": "4f54d13d-f38b-4cec-83c9-09e94a2c524e",
   "metadata": {},
   "outputs": [],
   "source": []
  }
 ],
 "metadata": {
  "kernelspec": {
   "display_name": "xenium_cgn_1",
   "language": "python",
   "name": "xenium_cgn_1"
  },
  "language_info": {
   "codemirror_mode": {
    "name": "ipython",
    "version": 3
   },
   "file_extension": ".py",
   "mimetype": "text/x-python",
   "name": "python",
   "nbconvert_exporter": "python",
   "pygments_lexer": "ipython3",
   "version": "3.11.6"
  }
 },
 "nbformat": 4,
 "nbformat_minor": 5
}
