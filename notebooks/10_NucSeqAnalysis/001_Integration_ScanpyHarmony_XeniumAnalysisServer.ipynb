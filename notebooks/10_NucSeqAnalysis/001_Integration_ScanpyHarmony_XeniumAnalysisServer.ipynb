{
 "cells": [
  {
   "cell_type": "code",
   "execution_count": null,
   "id": "ba61f557-9c62-48a3-baad-9bf41db9da06",
   "metadata": {},
   "outputs": [],
   "source": [
    "import os\n",
    "import scanpy as sc\n",
    "import anndata as ad\n",
    "import scanpy as sc\n",
    "import scanpy.external as sce\n",
    "import numpy as np\n",
    "import pandas as pd\n",
    "import matplotlib.pyplot as plt"
   ]
  },
  {
   "cell_type": "code",
   "execution_count": null,
   "id": "572830e4-357d-4fee-9a74-e8737a0d568e",
   "metadata": {},
   "outputs": [],
   "source": [
    "out_dir = \"output\"\n",
    "os.makedirs(out_dir, exist_ok=True)"
   ]
  },
  {
   "cell_type": "code",
   "execution_count": null,
   "id": "cef3de17-f9c8-4703-beb2-dd0f2deb4572",
   "metadata": {},
   "outputs": [],
   "source": [
    "sc.settings.verbosity = 3 \n",
    "sc.logging.print_header()\n",
    "sc.settings.set_figure_params(dpi=80, facecolor=\"white\")"
   ]
  },
  {
   "cell_type": "code",
   "execution_count": null,
   "id": "a14433a5-1993-4dc9-b49e-81993e8954f8",
   "metadata": {},
   "outputs": [],
   "source": [
    "# the following are needed to ensure that text in plt images opens as text box rather than glyphs in adobe\n",
    "plt.rcParams['pdf.fonttype'] = 42  \n",
    "plt.rcParams['ps.fonttype'] = 42  \n",
    "\n",
    "plt.rcParams[\"figure.figsize\"] = (4, 4)  \n",
    "\n",
    "plt.rcParams[\"font.size\"] = 14  \n",
    "plt.rcParams[\"axes.labelsize\"] = 16  \n",
    "plt.rcParams[\"axes.titlesize\"] = 18  \n",
    "plt.rcParams[\"legend.fontsize\"] = 14  \n",
    "plt.rcParams[\"xtick.labelsize\"] = 14  \n",
    "plt.rcParams[\"ytick.labelsize\"] = 14 \n"
   ]
  },
  {
   "cell_type": "code",
   "execution_count": null,
   "id": "3b204073-5d09-4efd-aed6-502afc45a358",
   "metadata": {},
   "outputs": [],
   "source": [
    "base_path = \"../Aligned_NucSeq/\" # Folder with alignment output\n",
    "\n",
    "# Dictionary :sample names as keys and relative paths as values\n",
    "sample_names = {\n",
    "    \"nCN017K\": \"nCN017K/outs/filtered_feature_bc_matrix/\",\n",
    "    \"nC018K\": \"nC018K/outs/filtered_feature_bc_matrix/\",\n",
    "    \"nCN021K\": \"nCN021K/outs/filtered_feature_bc_matrix/\",\n",
    "    \"nCN029K\": \"nCN029K/outs/filtered_feature_bc_matrix/\",\n",
    "    \"nP072K\": \"nP072K/outs/filtered_feature_bc_matrix/\",\n",
    "    \"nP073K\": \"nP073K/outs/filtered_feature_bc_matrix/\",\n",
    "    \"nP103K\": \"nP103K/outs/filtered_feature_bc_matrix/\",\n",
    "    \"nP105K\": \"nP105K/outs/filtered_feature_bc_matrix/\",\n",
    "    \"nP108K\": \"nP108K/outs/filtered_feature_bc_matrix/\",\n",
    "    \"nP126K\": \"nP126K/outs/filtered_feature_bc_matrix/\",\n",
    "    \"nP137K\": \"nP137K/outs/filtered_feature_bc_matrix/\",\n",
    "    \"nP139K\": \"nP139K/outs/filtered_feature_bc_matrix/\",\n",
    "    \"nP140K\": \"nP140K/outs/filtered_feature_bc_matrix/\",\n",
    "    \"nP143K\": \"nP143K/outs/filtered_feature_bc_matrix/\",\n",
    "    \"nP144K\": \"nP144K/outs/filtered_feature_bc_matrix/\"\n",
    "}\n",
    "\n",
    "samples = {key: os.path.join(base_path, value) for key, value in sample_names.items()}\n"
   ]
  },
  {
   "cell_type": "code",
   "execution_count": null,
   "id": "2b81002e-a9b1-4562-9dfb-998282b0194b",
   "metadata": {},
   "outputs": [],
   "source": [
    "adatas = {}\n",
    "\n",
    "for sample_id, filename in samples.items():\n",
    "    sample_adata = sc.read_10x_mtx(filename, var_names='gene_symbols', cache=True) \n",
    "    sample_adata.var_names_make_unique()  \n",
    "    adatas[sample_id] = sample_adata  # Store AnnData object in dictionary\n",
    "\n",
    "print(\"Loaded samples:\", list(adatas.keys()))\n"
   ]
  },
  {
   "cell_type": "code",
   "execution_count": null,
   "id": "3527874a-c496-4a81-8a98-f3d985ca321a",
   "metadata": {},
   "outputs": [],
   "source": [
    "adata.var[\"mt\"] = adata.var_names.str.startswith(\"MT-\")\n",
    "\n",
    "adata.var[\"ribo\"] = adata.var_names.str.startswith((\"RPS\", \"RPL\"))\n",
    "\n",
    "# hemoglobin genes\n",
    "adata.var[\"hb\"] = adata.var_names.str.contains(\"^HB[^(P)]\")\n",
    "\n",
    "sc.pp.calculate_qc_metrics(\n",
    "    adata, qc_vars=[\"mt\", \"ribo\", \"hb\"], inplace=True, log1p=True\n",
    ")\n"
   ]
  },
  {
   "cell_type": "code",
   "execution_count": null,
   "id": "dc0fcceb-8b43-4682-80eb-b0d69a93c86e",
   "metadata": {},
   "outputs": [],
   "source": [
    "sc.pp.filter_cells(adata, min_genes=50)\n",
    "sc.pp.filter_genes(adata, min_cells=3)"
   ]
  },
  {
   "cell_type": "code",
   "execution_count": null,
   "id": "33f0b5b6-72ed-44f7-b794-2789844b832c",
   "metadata": {},
   "outputs": [],
   "source": [
    "adata = adata[adata.obs.n_genes_by_counts < 6000, :]\n",
    "adata = adata[adata.obs.pct_counts_mt < 10, :].copy()"
   ]
  },
  {
   "cell_type": "code",
   "execution_count": null,
   "id": "74e4b1cb-da38-4849-a763-6f461e3ecbaa",
   "metadata": {},
   "outputs": [],
   "source": [
    "# Saving count data\n",
    "adata.layers[\"counts\"] = adata.X.copy()"
   ]
  },
  {
   "cell_type": "code",
   "execution_count": null,
   "id": "44677c46-47f6-4210-83d2-0e2915fd8a7a",
   "metadata": {},
   "outputs": [],
   "source": [
    "sc.pp.normalize_total(adata, target_sum=1e4)\n",
    "sc.pp.log1p(adata)"
   ]
  },
  {
   "cell_type": "code",
   "execution_count": null,
   "id": "2161d213-bcdf-4b3e-839c-c483aba644ba",
   "metadata": {},
   "outputs": [],
   "source": [
    "adata.raw = adata.copy()"
   ]
  },
  {
   "cell_type": "code",
   "execution_count": null,
   "id": "11caae3c-6245-40aa-8d7e-e7552c3882c0",
   "metadata": {},
   "outputs": [],
   "source": [
    "sc.pp.highly_variable_genes(adata, n_top_genes=2000, batch_key=\"sample\")\n",
    "sc.pl.highly_variable_genes(adata)"
   ]
  },
  {
   "cell_type": "code",
   "execution_count": null,
   "id": "83732656-6f29-4ce3-a8cc-a358bc054b66",
   "metadata": {},
   "outputs": [],
   "source": [
    "sc.pp.scale(adata) #This scales each gene to unit variance."
   ]
  },
  {
   "cell_type": "code",
   "execution_count": null,
   "id": "8d9c54d4-c955-4c87-bc74-2379f912b64b",
   "metadata": {},
   "outputs": [],
   "source": [
    "sc.tl.pca(adata)"
   ]
  },
  {
   "cell_type": "code",
   "execution_count": null,
   "id": "10885252-7646-4e6f-9c05-610076c47802",
   "metadata": {},
   "outputs": [],
   "source": [
    "sc.pp.neighbors(adata, n_neighbors=10, n_pcs=40)"
   ]
  },
  {
   "cell_type": "code",
   "execution_count": null,
   "id": "1accef5f-1eb2-491d-a52b-9c0812a73e43",
   "metadata": {},
   "outputs": [],
   "source": [
    "sc.tl.umap(adata)"
   ]
  },
  {
   "cell_type": "code",
   "execution_count": null,
   "id": "709292fe-e9d6-466a-9e50-86337d9b6b56",
   "metadata": {},
   "outputs": [],
   "source": [
    "sc.pl.umap(\n",
    "    adata,\n",
    "    color= [\"sample\"],\n",
    "    size=2,\n",
    ")"
   ]
  },
  {
   "cell_type": "code",
   "execution_count": null,
   "id": "cf23f012-657b-43ac-9bcf-804d928e7077",
   "metadata": {},
   "outputs": [],
   "source": [
    "sc.external.pp.harmony_integrate(adata, key=\"sample\", max_iter_harmony=50)"
   ]
  },
  {
   "cell_type": "code",
   "execution_count": null,
   "id": "897b02eb-be9d-4d54-b4cd-5e8d4083f84c",
   "metadata": {},
   "outputs": [],
   "source": [
    "sc.pp.neighbors(adata, use_rep=\"X_pca_harmony\")\n",
    "sc.tl.umap(adata)\n",
    "sc.tl.leiden(adata, resolution=0.5)"
   ]
  },
  {
   "cell_type": "code",
   "execution_count": null,
   "id": "ac1c0c34-bfd8-4ce1-b716-62b0686183fb",
   "metadata": {},
   "outputs": [],
   "source": [
    "sc.pl.umap(\n",
    "    adata,\n",
    "    color= [\"sample\", 'leiden'],\n",
    "    size=2,\n",
    ")"
   ]
  },
  {
   "cell_type": "code",
   "execution_count": null,
   "id": "93e438d9-1585-4039-ae21-5d7a80a7c7e5",
   "metadata": {},
   "outputs": [],
   "source": [
    "adata.write(\"../nucseq_outs/adata_Nuc.h5ad\")"
   ]
  }
 ],
 "metadata": {
  "kernelspec": {
   "display_name": "Python 3 (ipykernel)",
   "language": "python",
   "name": "python3"
  },
  "language_info": {
   "codemirror_mode": {
    "name": "ipython",
    "version": 3
   },
   "file_extension": ".py",
   "mimetype": "text/x-python",
   "name": "python",
   "nbconvert_exporter": "python",
   "pygments_lexer": "ipython3",
   "version": "3.9.7"
  }
 },
 "nbformat": 4,
 "nbformat_minor": 5
}
